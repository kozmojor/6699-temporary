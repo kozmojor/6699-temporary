{
 "cells": [
  {
   "cell_type": "code",
   "execution_count": 2,
   "metadata": {},
   "outputs": [],
   "source": [
    "import matplotlib.pyplot as plt\n",
    "import numpy as np\n",
    "import torch\n",
    "from kan import KAN, create_dataset"
   ]
  },
  {
   "cell_type": "markdown",
   "metadata": {},
   "source": [
    "## Two-layer KAN"
   ]
  },
  {
   "cell_type": "code",
   "execution_count": 3,
   "metadata": {},
   "outputs": [
    {
     "name": "stdout",
     "output_type": "stream",
     "text": [
      "checkpoint directory created: ./model\n",
      "saving model version 0.0\n"
     ]
    },
    {
     "name": "stderr",
     "output_type": "stream",
     "text": [
      "description:   0%|                                                           | 0/50 [00:00<?, ?it/s]"
     ]
    },
    {
     "name": "stderr",
     "output_type": "stream",
     "text": [
      "| train_loss: 2.79e-02 | test_loss: 2.82e-02 | reg: 2.55e+01 | : 100%|█| 50/50 [00:11<00:00,  4.49it\n"
     ]
    },
    {
     "name": "stdout",
     "output_type": "stream",
     "text": [
      "saving model version 0.1\n",
      "saving model version 0.2\n"
     ]
    },
    {
     "name": "stderr",
     "output_type": "stream",
     "text": [
      "| train_loss: 1.35e-02 | test_loss: 1.49e-02 | reg: 2.57e+01 | : 100%|█| 50/50 [00:10<00:00,  4.56it\n"
     ]
    },
    {
     "name": "stdout",
     "output_type": "stream",
     "text": [
      "saving model version 0.3\n",
      "saving model version 0.4\n"
     ]
    },
    {
     "name": "stderr",
     "output_type": "stream",
     "text": [
      "| train_loss: 6.97e-03 | test_loss: 7.87e-03 | reg: 2.57e+01 | : 100%|█| 50/50 [00:12<00:00,  4.16it\n"
     ]
    },
    {
     "name": "stdout",
     "output_type": "stream",
     "text": [
      "saving model version 0.5\n",
      "saving model version 0.6\n"
     ]
    },
    {
     "name": "stderr",
     "output_type": "stream",
     "text": [
      "| train_loss: 4.93e-03 | test_loss: 6.36e-03 | reg: 2.58e+01 | : 100%|█| 50/50 [00:14<00:00,  3.54it\n"
     ]
    },
    {
     "name": "stdout",
     "output_type": "stream",
     "text": [
      "saving model version 0.7\n",
      "saving model version 0.8\n"
     ]
    },
    {
     "name": "stderr",
     "output_type": "stream",
     "text": [
      "| train_loss: 3.69e-03 | test_loss: 7.09e-03 | reg: 2.49e+01 | : 100%|█| 50/50 [00:27<00:00,  1.84it"
     ]
    },
    {
     "name": "stdout",
     "output_type": "stream",
     "text": [
      "saving model version 0.9\n"
     ]
    },
    {
     "name": "stderr",
     "output_type": "stream",
     "text": [
      "\n"
     ]
    }
   ],
   "source": [
    "f = lambda x: torch.exp((torch.sin(torch.pi*(x[:,[0]]**2+x[:,[1]]**2))+torch.sin(torch.pi*(x[:,[2]]**2+x[:,[3]]**2)))/2)\n",
    "dataset = create_dataset(f, n_var=4, train_num=5000)\n",
    "\n",
    "grids = np.array([3,5,10,20,50])\n",
    "\n",
    "two_layer_train_rmse = []\n",
    "two_layer_test_rmse = []\n",
    "\n",
    "for i in range(grids.shape[0]):\n",
    "    if i == 0:\n",
    "        model = KAN(width=[4,9,1], grid=3, k=3, seed=0, noise_scale=1.0)\n",
    "    else:\n",
    "        model = model.refine(grids[i])\n",
    "    results = model.fit(dataset, opt=\"LBFGS\", steps=50, stop_grid_update_step=20)\n",
    "    two_layer_train_rmse.append(results['train_loss'][-1].item())\n",
    "    two_layer_test_rmse.append(results['test_loss'][-1].item())"
   ]
  },
  {
   "cell_type": "markdown",
   "metadata": {},
   "source": [
    "## Three-layer KAN"
   ]
  },
  {
   "cell_type": "code",
   "execution_count": 4,
   "metadata": {},
   "outputs": [
    {
     "name": "stdout",
     "output_type": "stream",
     "text": [
      "checkpoint directory created: ./model\n",
      "saving model version 0.0\n"
     ]
    },
    {
     "name": "stderr",
     "output_type": "stream",
     "text": [
      "description:   0%|                                                           | 0/50 [00:00<?, ?it/s]"
     ]
    },
    {
     "name": "stderr",
     "output_type": "stream",
     "text": [
      "| train_loss: 7.33e-03 | test_loss: 7.63e-03 | reg: 1.06e+01 | : 100%|█| 50/50 [00:14<00:00,  3.52it\n"
     ]
    },
    {
     "name": "stdout",
     "output_type": "stream",
     "text": [
      "saving model version 0.1\n",
      "saving model version 0.2\n"
     ]
    },
    {
     "name": "stderr",
     "output_type": "stream",
     "text": [
      "| train_loss: 3.61e-03 | test_loss: 3.56e-03 | reg: 1.06e+01 | : 100%|█| 50/50 [00:13<00:00,  3.81it\n"
     ]
    },
    {
     "name": "stdout",
     "output_type": "stream",
     "text": [
      "saving model version 0.3\n",
      "saving model version 0.4\n"
     ]
    },
    {
     "name": "stderr",
     "output_type": "stream",
     "text": [
      "| train_loss: 1.45e-03 | test_loss: 1.45e-03 | reg: 1.05e+01 | : 100%|█| 50/50 [00:13<00:00,  3.78it\n"
     ]
    },
    {
     "name": "stdout",
     "output_type": "stream",
     "text": [
      "saving model version 0.5\n",
      "saving model version 0.6\n"
     ]
    },
    {
     "name": "stderr",
     "output_type": "stream",
     "text": [
      "| train_loss: 4.10e-04 | test_loss: 3.76e-04 | reg: 1.05e+01 | : 100%|█| 50/50 [00:13<00:00,  3.77it\n"
     ]
    },
    {
     "name": "stdout",
     "output_type": "stream",
     "text": [
      "saving model version 0.7\n",
      "saving model version 0.8\n"
     ]
    },
    {
     "name": "stderr",
     "output_type": "stream",
     "text": [
      "| train_loss: 3.97e-05 | test_loss: 3.97e-05 | reg: 1.05e+01 | : 100%|█| 50/50 [00:11<00:00,  4.27it"
     ]
    },
    {
     "name": "stdout",
     "output_type": "stream",
     "text": [
      "saving model version 0.9\n"
     ]
    },
    {
     "name": "stderr",
     "output_type": "stream",
     "text": [
      "\n"
     ]
    }
   ],
   "source": [
    "f = lambda x: torch.exp((torch.sin(torch.pi*(x[:,[0]]**2+x[:,[1]]**2))+torch.sin(torch.pi*(x[:,[2]]**2+x[:,[3]]**2)))/2)\n",
    "dataset = create_dataset(f, n_var=4, train_num=5000)\n",
    "\n",
    "grids = np.array([3,5,10,20,50])\n",
    "\n",
    "three_layer_train_rmse = []\n",
    "three_layer_test_rmse = []\n",
    "\n",
    "for i in range(grids.shape[0]):\n",
    "    if i == 0:\n",
    "        model = KAN(width=[4,2,1,1], grid=3, k=3, seed=0, noise_scale=1.0)\n",
    "    else:\n",
    "        model = model.refine(grids[i])\n",
    "    results = model.fit(dataset, opt=\"LBFGS\", steps=50, stop_grid_update_step=20)\n",
    "    three_layer_train_rmse.append(results['train_loss'][-1].item())\n",
    "    three_layer_test_rmse.append(results['test_loss'][-1].item())"
   ]
  },
  {
   "cell_type": "markdown",
   "metadata": {},
   "source": [
    "## Visualization of Training and Testing RMSE"
   ]
  },
  {
   "cell_type": "code",
   "execution_count": 20,
   "metadata": {},
   "outputs": [
    {
     "data": {
      "image/png": "[encoded data removed]",
      "text/plain": [
       "<Figure size 864x576 with 1 Axes>"
      ]
     },
     "metadata": {
      "needs_background": "light"
     },
     "output_type": "display_data"
    }
   ],
   "source": [
    "plt.figure(figsize=(12, 8))\n",
    "\n",
    "two_layer_n_params = np.array(grids) * (4*9+9*1)\n",
    "plt.plot(two_layer_n_params, two_layer_train_rmse, marker=\"x\", color='blue')\n",
    "plt.plot(two_layer_n_params, two_layer_test_rmse, marker=\"x\", color='orange')\n",
    "\n",
    "three_layer_n_params = np.array(grids) * (4*2+2*1+1*1)\n",
    "plt.plot(three_layer_n_params, three_layer_train_rmse, marker=\"o\", color='blue')\n",
    "plt.plot(three_layer_n_params, three_layer_test_rmse, marker=\"o\", color='orange')\n",
    "\n",
    "plt.legend(['two-layer train', 'two-layer test', 'three-layer train', 'three-layer test'], loc=\"lower left\", fontsize=20)\n",
    "plt.title('Two-layer KAN[4,9,1] vs Three-layer KAN[4,2,1,1]', fontsize=25, pad=10)\n",
    "plt.xlabel('Number of Parameters', fontsize=20)\n",
    "plt.ylabel('RMSE', fontsize=20)\n",
    "plt.tick_params(axis='both', labelsize=15)\n",
    "plt.xscale('log')\n",
    "plt.yscale('log')\n",
    "plt.savefig('2_vs_3_layer.png')"
   ]
  }
 ],
 "metadata": {
  "kernelspec": {
   "display_name": "pykan-env",
   "language": "python",
   "name": "python3"
  },
  "language_info": {
   "codemirror_mode": {
    "name": "ipython",
    "version": 3
   },
   "file_extension": ".py",
   "mimetype": "text/x-python",
   "name": "python",
   "nbconvert_exporter": "python",
   "pygments_lexer": "ipython3",
   "version": "3.8.10"
  }
 },
 "nbformat": 4,
 "nbformat_minor": 2
}
